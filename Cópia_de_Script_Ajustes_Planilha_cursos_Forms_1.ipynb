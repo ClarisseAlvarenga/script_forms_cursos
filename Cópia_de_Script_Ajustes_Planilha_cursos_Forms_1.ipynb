{
  "nbformat": 4,
  "nbformat_minor": 0,
  "metadata": {
    "colab": {
      "name": "Cópia de Script_Ajustes_Planilha_cursos_Forms-1.ipynb",
      "provenance": [],
      "collapsed_sections": [],
      "include_colab_link": true
    },
    "kernelspec": {
      "display_name": "Python 3",
      "name": "python3"
    }
  },
  "cells": [
    {
      "cell_type": "markdown",
      "metadata": {
        "id": "view-in-github",
        "colab_type": "text"
      },
      "source": [
        "<a href=\"https://colab.research.google.com/github/ClarisseAlvarenga/script_forms_cursos/blob/main/C%C3%B3pia_de_Script_Ajustes_Planilha_cursos_Forms_1.ipynb\" target=\"_parent\"><img src=\"https://colab.research.google.com/assets/colab-badge.svg\" alt=\"Open In Colab\"/></a>"
      ]
    },
    {
      "cell_type": "code",
      "metadata": {
        "id": "3zqiob52wnMR"
      },
      "source": [
        "import pandas as pd\n",
        "import datetime as dt"
      ],
      "execution_count": null,
      "outputs": []
    },
    {
      "cell_type": "markdown",
      "metadata": {
        "id": "EE4lKCW7LOES"
      },
      "source": [
        "# SCRIPT PARA CONVERSÃO DE INSCRIÇÕES NOS CURSOS DE CONSULTORIA - PRIMEIRO SEMESTRE DE 2021"
      ]
    },
    {
      "cell_type": "code",
      "metadata": {
        "id": "HJVYHCur2T2g"
      },
      "source": [
        "#baixando o arquivo,\n",
        "arquivo = '/content/CAPACITAÇÃO COMEX - 1º SEMESTRE - 2021(1-523).xlsx'\n",
        "cursos = pd.read_excel(arquivo)"
      ],
      "execution_count": null,
      "outputs": []
    },
    {
      "cell_type": "code",
      "metadata": {
        "id": "gzLwhNP-yC1j"
      },
      "source": [
        "#alterando o nome das colunas\n",
        "cursos.columns = ['ID', 'Início', 'Conclusão','Email1', 'Nome1','Cursos', \n",
        "                  'Nome', 'CPF', 'Empresa', 'CNPJ', \n",
        "                  'Cidade', 'UF', 'e-mail', \n",
        "                  'Telefone', 'Certificado', 'Indicação',\n",
        "                  'Sugestões', 'Pagamento', 'aviso1', 'aviso2']"
      ],
      "execution_count": null,
      "outputs": []
    },
    {
      "cell_type": "code",
      "metadata": {
        "id": "DtGckI1vypvp"
      },
      "source": [
        "#exclusão das colunas desnecessárias\n",
        "cursos.drop(['Nome1', 'Email1','aviso1', 'aviso2'], axis=1, inplace=True)"
      ],
      "execution_count": null,
      "outputs": []
    },
    {
      "cell_type": "code",
      "metadata": {
        "id": "1FQUDjvlcqo5",
        "colab": {
          "base_uri": "https://localhost:8080/",
          "height": 131
        },
        "outputId": "d1453916-8eea-40e3-ebb6-c8dde2f4b6be"
      },
      "source": [
        "cursos.query('Nome == \"Samuel da Rocha Moura\"')"
      ],
      "execution_count": null,
      "outputs": [
        {
          "output_type": "execute_result",
          "data": {
            "text/html": [
              "<div>\n",
              "<style scoped>\n",
              "    .dataframe tbody tr th:only-of-type {\n",
              "        vertical-align: middle;\n",
              "    }\n",
              "\n",
              "    .dataframe tbody tr th {\n",
              "        vertical-align: top;\n",
              "    }\n",
              "\n",
              "    .dataframe thead th {\n",
              "        text-align: right;\n",
              "    }\n",
              "</style>\n",
              "<table border=\"1\" class=\"dataframe\">\n",
              "  <thead>\n",
              "    <tr style=\"text-align: right;\">\n",
              "      <th></th>\n",
              "      <th>ID</th>\n",
              "      <th>Início</th>\n",
              "      <th>Conclusão</th>\n",
              "      <th>Cursos</th>\n",
              "      <th>Nome</th>\n",
              "      <th>CPF</th>\n",
              "      <th>Empresa</th>\n",
              "      <th>CNPJ</th>\n",
              "      <th>Cidade</th>\n",
              "      <th>UF</th>\n",
              "      <th>e-mail</th>\n",
              "      <th>Telefone</th>\n",
              "      <th>Certificado</th>\n",
              "      <th>Indicação</th>\n",
              "      <th>Sugestões</th>\n",
              "      <th>Pagamento</th>\n",
              "    </tr>\n",
              "  </thead>\n",
              "  <tbody>\n",
              "    <tr>\n",
              "      <th>336</th>\n",
              "      <td>337</td>\n",
              "      <td>2021-02-24 10:41:39</td>\n",
              "      <td>2021-02-24 15:22:35</td>\n",
              "      <td>Exportação - 25/02/2021 (13:00h - 16:00h) ;Imp...</td>\n",
              "      <td>Samuel da Rocha Moura</td>\n",
              "      <td>43389948864</td>\n",
              "      <td>Fanem Ltda.</td>\n",
              "      <td>61.100.244/0001-30</td>\n",
              "      <td>São Paulo</td>\n",
              "      <td>São Paulo (SP)</td>\n",
              "      <td>samuel.moura@fanem.com.br</td>\n",
              "      <td>11988127657</td>\n",
              "      <td>Sim</td>\n",
              "      <td>Gerente Banco do Brasil</td>\n",
              "      <td>NaN</td>\n",
              "      <td>Assinante</td>\n",
              "    </tr>\n",
              "  </tbody>\n",
              "</table>\n",
              "</div>"
            ],
            "text/plain": [
              "      ID              Início  ... Sugestões  Pagamento\n",
              "336  337 2021-02-24 10:41:39  ...       NaN  Assinante\n",
              "\n",
              "[1 rows x 16 columns]"
            ]
          },
          "metadata": {
            "tags": []
          },
          "execution_count": 15
        }
      ]
    },
    {
      "cell_type": "code",
      "metadata": {
        "id": "U-EFfm4u0rZm"
      },
      "source": [
        "#transformando os cursos em uma lista\n",
        "cursos['Cursos'] = cursos['Cursos'].str.split(';')"
      ],
      "execution_count": null,
      "outputs": []
    },
    {
      "cell_type": "code",
      "metadata": {
        "id": "RvJ4u4ow2g0d"
      },
      "source": [
        "#dividindo os cursos em linhas\n",
        "cursos = cursos.explode('Cursos').reset_index(drop=True)"
      ],
      "execution_count": null,
      "outputs": []
    },
    {
      "cell_type": "code",
      "metadata": {
        "id": "dM61HHz6d0_b"
      },
      "source": [
        "cursos.drop(cursos.query('Cursos == \"Proteção Financeira - TURMA EXTRA - 07/04/2021 (13:00h - 17:00h)\"').index, inplace=True)"
      ],
      "execution_count": null,
      "outputs": []
    },
    {
      "cell_type": "code",
      "metadata": {
        "id": "ZHLNceBNfCRt",
        "colab": {
          "base_uri": "https://localhost:8080/"
        },
        "outputId": "f37ae62d-b023-4a6f-c39c-f70d3d355647"
      },
      "source": [
        "cursos['Cursos']"
      ],
      "execution_count": null,
      "outputs": [
        {
          "output_type": "execute_result",
          "data": {
            "text/plain": [
              "0              Importação - 21/01/2021 (13:00h - 16:00h) \n",
              "1                                                        \n",
              "2       Práticas Cambiais - 10/02/2021 (13:00h - 16:00h) \n",
              "3              Exportação - 25/02/2021 (13:00h - 16:00h) \n",
              "4       Garantias Internacionais - 15/04/2021 (13:00h ...\n",
              "                              ...                        \n",
              "1620    Proteção Financeira TURMA EXTRA - 07/04/2021 (...\n",
              "1621                                                     \n",
              "1622    Financiamentos à Exportação - 19/05/2021 (13:0...\n",
              "1623    Proteção Financeira - 23/06/2021 (13:00h - 17:...\n",
              "1624                                                     \n",
              "Name: Cursos, Length: 1624, dtype: object"
            ]
          },
          "metadata": {
            "tags": []
          },
          "execution_count": 19
        }
      ]
    },
    {
      "cell_type": "code",
      "metadata": {
        "id": "PcTUKHEr2w-i"
      },
      "source": [
        "#separando o horário\n",
        "cursos[['Cursos', 'Horário']] = cursos['Cursos'].str.split(' \\(', expand=True)"
      ],
      "execution_count": null,
      "outputs": []
    },
    {
      "cell_type": "code",
      "metadata": {
        "id": "J9gO0vV54F6i"
      },
      "source": [
        "#dividindo a data do curso\n",
        "cursos[['Data', 'Curso']] = cursos['Cursos'].str.split(' - ', expand=True)"
      ],
      "execution_count": null,
      "outputs": []
    },
    {
      "cell_type": "code",
      "metadata": {
        "id": "9HEnrXmD6FB4"
      },
      "source": [
        "#reorganizando as colunas\n",
        "cursos = cursos[['ID', 'Início', 'Conclusão', 'Cursos', 'Data', 'Curso', 'Horário','Nome', 'CPF', 'Empresa', 'CNPJ',\n",
        "       'Cidade', 'UF', 'e-mail', 'Telefone', 'Certificado', 'Indicação',\n",
        "       'Sugestões', 'Pagamento']]"
      ],
      "execution_count": null,
      "outputs": []
    },
    {
      "cell_type": "code",
      "metadata": {
        "id": "3kR1-34r6SNH"
      },
      "source": [
        "#excluindo uma coluna\n",
        "cursos.dropna(subset=['Cursos'], inplace=True)"
      ],
      "execution_count": null,
      "outputs": []
    },
    {
      "cell_type": "code",
      "metadata": {
        "id": "KG8qhfNI6hiN"
      },
      "source": [
        "#excluindo as linhas sem curso\n",
        "cursos.dropna(subset=['Curso'], inplace=True)"
      ],
      "execution_count": null,
      "outputs": []
    },
    {
      "cell_type": "code",
      "metadata": {
        "id": "xzktR-GSAdXG"
      },
      "source": [
        "#criando em excel\n",
        "data = dt.datetime.now()\n",
        "cursos.to_excel(f'cursos_{data.day}{data.month}{data.year}.xlsx', encoding='UTF-8')"
      ],
      "execution_count": null,
      "outputs": []
    },
    {
      "cell_type": "code",
      "metadata": {
        "id": "KLkIxneN97hF"
      },
      "source": [
        ""
      ],
      "execution_count": null,
      "outputs": []
    }
  ]
}